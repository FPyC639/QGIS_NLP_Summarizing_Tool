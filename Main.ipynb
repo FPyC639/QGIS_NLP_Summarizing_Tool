{
  "nbformat": 4,
  "nbformat_minor": 0,
  "metadata": {
    "colab": {
      "provenance": []
    },
    "kernelspec": {
      "name": "python3",
      "display_name": "Python 3"
    },
    "language_info": {
      "name": "python"
    }
  },
  "cells": [
    {
      "cell_type": "markdown",
      "source": [
        "#Google Colaboratory Notebook File\n"
      ],
      "metadata": {
        "id": "bTfmGva9A63R"
      }
    },
    {
      "cell_type": "markdown",
      "source": [
        "##Using Git and Linux\n",
        "Clone repository to keep logs of file updates, and project progression.  "
      ],
      "metadata": {
        "id": "4C4gRbofD87Z"
      }
    },
    {
      "cell_type": "code",
      "execution_count": 1,
      "metadata": {
        "colab": {
          "base_uri": "https://localhost:8080/"
        },
        "id": "NUiL17-GA1MU",
        "outputId": "fb6db053-b9d4-4786-8d00-51b08be71386"
      },
      "outputs": [
        {
          "output_type": "stream",
          "name": "stdout",
          "text": [
            "Cloning into 'QGIS_NLP_Summarizing_Tool'...\n",
            "remote: Enumerating objects: 16, done.\u001b[K\n",
            "remote: Counting objects: 100% (16/16), done.\u001b[K\n",
            "remote: Compressing objects: 100% (15/15), done.\u001b[K\n",
            "remote: Total 16 (delta 3), reused 12 (delta 1), pack-reused 0\u001b[K\n",
            "Unpacking objects: 100% (16/16), 994.17 KiB | 6.76 MiB/s, done.\n"
          ]
        }
      ],
      "source": [
        "!git clone https://github.com/FPyC639/QGIS_NLP_Summarizing_Tool"
      ]
    },
    {
      "cell_type": "code",
      "source": [
        "import pandas as pd"
      ],
      "metadata": {
        "id": "MYgg0RqFA4yR"
      },
      "execution_count": 2,
      "outputs": []
    },
    {
      "cell_type": "code",
      "source": [
        "df = pd.read_csv(\"/content/QGIS_NLP_Summarizing_Tool/Issue.txt\")\n",
        "df.head()"
      ],
      "metadata": {
        "colab": {
          "base_uri": "https://localhost:8080/",
          "height": 206
        },
        "id": "KAosgfRrBMkD",
        "outputId": "af856034-9341-4de1-95ed-83d38b33f048"
      },
      "execution_count": 3,
      "outputs": [
        {
          "output_type": "execute_result",
          "data": {
            "text/plain": [
              "                     Laptop                                              Issue\n",
              "0               Dell XPS 13             Fingerprint scanner is malfunctioning.\n",
              "1             Dell G5 15 SE   Experiencing issues with the driver AMD Radeo...\n",
              "2     Asus ROG Zephyrus M15   Experiencing issues with the driver Realtek E...\n",
              "3               HP Pavilion   Having issues and not functioning well when p...\n",
              "4  Acer Predator Triton 500   Sound system is having issues with its Dolby ..."
            ],
            "text/html": [
              "\n",
              "  <div id=\"df-dbaf1577-5938-4fb1-9246-8922b5f2cfd0\">\n",
              "    <div class=\"colab-df-container\">\n",
              "      <div>\n",
              "<style scoped>\n",
              "    .dataframe tbody tr th:only-of-type {\n",
              "        vertical-align: middle;\n",
              "    }\n",
              "\n",
              "    .dataframe tbody tr th {\n",
              "        vertical-align: top;\n",
              "    }\n",
              "\n",
              "    .dataframe thead th {\n",
              "        text-align: right;\n",
              "    }\n",
              "</style>\n",
              "<table border=\"1\" class=\"dataframe\">\n",
              "  <thead>\n",
              "    <tr style=\"text-align: right;\">\n",
              "      <th></th>\n",
              "      <th>Laptop</th>\n",
              "      <th>Issue</th>\n",
              "    </tr>\n",
              "  </thead>\n",
              "  <tbody>\n",
              "    <tr>\n",
              "      <th>0</th>\n",
              "      <td>Dell XPS 13</td>\n",
              "      <td>Fingerprint scanner is malfunctioning.</td>\n",
              "    </tr>\n",
              "    <tr>\n",
              "      <th>1</th>\n",
              "      <td>Dell G5 15 SE</td>\n",
              "      <td>Experiencing issues with the driver AMD Radeo...</td>\n",
              "    </tr>\n",
              "    <tr>\n",
              "      <th>2</th>\n",
              "      <td>Asus ROG Zephyrus M15</td>\n",
              "      <td>Experiencing issues with the driver Realtek E...</td>\n",
              "    </tr>\n",
              "    <tr>\n",
              "      <th>3</th>\n",
              "      <td>HP Pavilion</td>\n",
              "      <td>Having issues and not functioning well when p...</td>\n",
              "    </tr>\n",
              "    <tr>\n",
              "      <th>4</th>\n",
              "      <td>Acer Predator Triton 500</td>\n",
              "      <td>Sound system is having issues with its Dolby ...</td>\n",
              "    </tr>\n",
              "  </tbody>\n",
              "</table>\n",
              "</div>\n",
              "      <button class=\"colab-df-convert\" onclick=\"convertToInteractive('df-dbaf1577-5938-4fb1-9246-8922b5f2cfd0')\"\n",
              "              title=\"Convert this dataframe to an interactive table.\"\n",
              "              style=\"display:none;\">\n",
              "        \n",
              "  <svg xmlns=\"http://www.w3.org/2000/svg\" height=\"24px\"viewBox=\"0 0 24 24\"\n",
              "       width=\"24px\">\n",
              "    <path d=\"M0 0h24v24H0V0z\" fill=\"none\"/>\n",
              "    <path d=\"M18.56 5.44l.94 2.06.94-2.06 2.06-.94-2.06-.94-.94-2.06-.94 2.06-2.06.94zm-11 1L8.5 8.5l.94-2.06 2.06-.94-2.06-.94L8.5 2.5l-.94 2.06-2.06.94zm10 10l.94 2.06.94-2.06 2.06-.94-2.06-.94-.94-2.06-.94 2.06-2.06.94z\"/><path d=\"M17.41 7.96l-1.37-1.37c-.4-.4-.92-.59-1.43-.59-.52 0-1.04.2-1.43.59L10.3 9.45l-7.72 7.72c-.78.78-.78 2.05 0 2.83L4 21.41c.39.39.9.59 1.41.59.51 0 1.02-.2 1.41-.59l7.78-7.78 2.81-2.81c.8-.78.8-2.07 0-2.86zM5.41 20L4 18.59l7.72-7.72 1.47 1.35L5.41 20z\"/>\n",
              "  </svg>\n",
              "      </button>\n",
              "      \n",
              "  <style>\n",
              "    .colab-df-container {\n",
              "      display:flex;\n",
              "      flex-wrap:wrap;\n",
              "      gap: 12px;\n",
              "    }\n",
              "\n",
              "    .colab-df-convert {\n",
              "      background-color: #E8F0FE;\n",
              "      border: none;\n",
              "      border-radius: 50%;\n",
              "      cursor: pointer;\n",
              "      display: none;\n",
              "      fill: #1967D2;\n",
              "      height: 32px;\n",
              "      padding: 0 0 0 0;\n",
              "      width: 32px;\n",
              "    }\n",
              "\n",
              "    .colab-df-convert:hover {\n",
              "      background-color: #E2EBFA;\n",
              "      box-shadow: 0px 1px 2px rgba(60, 64, 67, 0.3), 0px 1px 3px 1px rgba(60, 64, 67, 0.15);\n",
              "      fill: #174EA6;\n",
              "    }\n",
              "\n",
              "    [theme=dark] .colab-df-convert {\n",
              "      background-color: #3B4455;\n",
              "      fill: #D2E3FC;\n",
              "    }\n",
              "\n",
              "    [theme=dark] .colab-df-convert:hover {\n",
              "      background-color: #434B5C;\n",
              "      box-shadow: 0px 1px 3px 1px rgba(0, 0, 0, 0.15);\n",
              "      filter: drop-shadow(0px 1px 2px rgba(0, 0, 0, 0.3));\n",
              "      fill: #FFFFFF;\n",
              "    }\n",
              "  </style>\n",
              "\n",
              "      <script>\n",
              "        const buttonEl =\n",
              "          document.querySelector('#df-dbaf1577-5938-4fb1-9246-8922b5f2cfd0 button.colab-df-convert');\n",
              "        buttonEl.style.display =\n",
              "          google.colab.kernel.accessAllowed ? 'block' : 'none';\n",
              "\n",
              "        async function convertToInteractive(key) {\n",
              "          const element = document.querySelector('#df-dbaf1577-5938-4fb1-9246-8922b5f2cfd0');\n",
              "          const dataTable =\n",
              "            await google.colab.kernel.invokeFunction('convertToInteractive',\n",
              "                                                     [key], {});\n",
              "          if (!dataTable) return;\n",
              "\n",
              "          const docLinkHtml = 'Like what you see? Visit the ' +\n",
              "            '<a target=\"_blank\" href=https://colab.research.google.com/notebooks/data_table.ipynb>data table notebook</a>'\n",
              "            + ' to learn more about interactive tables.';\n",
              "          element.innerHTML = '';\n",
              "          dataTable['output_type'] = 'display_data';\n",
              "          await google.colab.output.renderOutput(dataTable, element);\n",
              "          const docLink = document.createElement('div');\n",
              "          docLink.innerHTML = docLinkHtml;\n",
              "          element.appendChild(docLink);\n",
              "        }\n",
              "      </script>\n",
              "    </div>\n",
              "  </div>\n",
              "  "
            ]
          },
          "metadata": {},
          "execution_count": 3
        }
      ]
    },
    {
      "cell_type": "code",
      "source": [
        "df.shape"
      ],
      "metadata": {
        "colab": {
          "base_uri": "https://localhost:8080/"
        },
        "id": "rQBq6RjwEo34",
        "outputId": "dc0eb496-1e6f-48ea-b2be-3c3b5678501f"
      },
      "execution_count": 4,
      "outputs": [
        {
          "output_type": "execute_result",
          "data": {
            "text/plain": [
              "(78, 2)"
            ]
          },
          "metadata": {},
          "execution_count": 4
        }
      ]
    },
    {
      "cell_type": "markdown",
      "source": [
        "##Dataset current size\n",
        "The size of the current dataset is 78 records with two features in feature vector Laptop name, and Issue."
      ],
      "metadata": {
        "id": "MA_hBmndEnp3"
      }
    },
    {
      "cell_type": "code",
      "source": [
        "Laptop_iter = set(map(lambda x: x.split()[0],df.Laptop.unique()))"
      ],
      "metadata": {
        "id": "9djB5lmpBWI4"
      },
      "execution_count": 5,
      "outputs": []
    },
    {
      "cell_type": "markdown",
      "source": [
        "#Laptops Used\n",
        "The mockup data that was generated from ChatGPT-3.5 resulted in these Laptop brand selections."
      ],
      "metadata": {
        "id": "hGb2jPRXDo0A"
      }
    },
    {
      "cell_type": "code",
      "source": [
        "for i in Laptop_iter:\n",
        "  print(i)"
      ],
      "metadata": {
        "colab": {
          "base_uri": "https://localhost:8080/"
        },
        "id": "njSenhWyB5xY",
        "outputId": "679138ff-58cf-4611-b261-4d91c4ae1308"
      },
      "execution_count": 6,
      "outputs": [
        {
          "output_type": "stream",
          "name": "stdout",
          "text": [
            "Dell\n",
            "Asus\n",
            "Acer\n",
            "Microsoft\n",
            "HP\n",
            "Lenovo\n"
          ]
        }
      ]
    },
    {
      "cell_type": "code",
      "source": [
        "dict_Laptop = dict()\n",
        "dict_Laptop[\"Lenovo\"] = {\"China\", \"Mexico\", \"Brazil\", \"India\"}\n",
        "dict_Laptop[\"Microsoft\"] = {\"China\",\"Vietnam\"}\n",
        "dict_Laptop[\"Dell\"] = {\"China\", \"Malaysia\", \"Mexico\", \"Brazil\", \"Ireland\", \"USA\", \"India\"}\n",
        "dict_Laptop[\"Asus\"] = {\"Taiwan\", \"China\", \"Mexico\"}\n",
        "dict_Laptop[\"HP\"] = {\"China\", \"Mexico\", \"Brazil\", \"India\"}\n",
        "dict_Laptop[\"Acer\"] = {\"Taiwan\", \"China\", \"Malaysia\", \"Thailand\"}"
      ],
      "metadata": {
        "id": "6WZ8GGBLDmm9"
      },
      "execution_count": 7,
      "outputs": []
    },
    {
      "cell_type": "code",
      "source": [],
      "metadata": {
        "id": "ewYzl9OLc8cY"
      },
      "execution_count": 11,
      "outputs": []
    },
    {
      "cell_type": "code",
      "source": [],
      "metadata": {
        "id": "kdKyBp5fc-zL"
      },
      "execution_count": null,
      "outputs": []
    }
  ]
}